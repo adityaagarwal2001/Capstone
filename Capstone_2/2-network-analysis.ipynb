{
 "cells": [
  {
   "cell_type": "code",
   "execution_count": 1,
   "metadata": {
    "ExecuteTime": {
     "end_time": "2018-11-22T03:30:47.792945Z",
     "start_time": "2018-11-22T03:30:46.409392Z"
    }
   },
   "outputs": [],
   "source": [
    "# Import all required packages\n",
    "\n",
    "import pandas as pd\n",
    "import numpy as np\n",
    "from datetime import datetime, timedelta\n",
    "import networkx as nx\n",
    "import matplotlib.pyplot as plt\n",
    "import seaborn as sns\n",
    "\n",
    "from nxviz import CircosPlot\n",
    "%matplotlib inline\n",
    "sns.set()"
   ]
  },
  {
   "cell_type": "code",
   "execution_count": 2,
   "metadata": {
    "ExecuteTime": {
     "end_time": "2018-11-22T03:30:47.819686Z",
     "start_time": "2018-11-22T03:30:47.795714Z"
    }
   },
   "outputs": [],
   "source": [
    "from tqdm import tqdm_notebook as tqdm\n",
    "import pickle"
   ]
  },
  {
   "cell_type": "code",
   "execution_count": 3,
   "metadata": {
    "ExecuteTime": {
     "end_time": "2018-11-22T03:31:18.047121Z",
     "start_time": "2018-11-22T03:30:47.821676Z"
    }
   },
   "outputs": [],
   "source": [
    "df = pd.read_csv(r'Dataset_export/dataset_4.csv')"
   ]
  },
  {
   "cell_type": "code",
   "execution_count": 4,
   "metadata": {
    "ExecuteTime": {
     "end_time": "2018-11-22T03:31:18.064077Z",
     "start_time": "2018-11-22T03:31:18.056101Z"
    }
   },
   "outputs": [],
   "source": [
    "# sample data to learn netowkrx\n",
    "#df =  df.sample(frac=0.1, random_state=1)"
   ]
  },
  {
   "cell_type": "code",
   "execution_count": 5,
   "metadata": {
    "ExecuteTime": {
     "end_time": "2018-11-22T03:49:26.711626Z",
     "start_time": "2018-11-22T03:31:18.068067Z"
    }
   },
   "outputs": [],
   "source": [
    "G = nx.from_pandas_edgelist(df, source='Origin', target='Dest', edge_attr=['DayOfWeek', 'FlightDate', 'Reporting_Airline', 'Tail_Number', 'CRSDepTime', 'DepTime', 'DepDel15', 'DepTimeBlk', 'TaxiOut', 'TaxiIn', 'CRSArrTime', 'ArrTime', 'ArrDel15', 'ArrTimeBlk', 'Cancelled', 'CancellationCode', 'Diverted', 'Distance', 'DistanceGroup', 'CarrierDelay', 'WeatherDelay', 'NASDelay', 'SecurityDelay', 'LateAircraftDelay'], create_using=nx.MultiDiGraph())"
   ]
  },
  {
   "cell_type": "code",
   "execution_count": 6,
   "metadata": {
    "ExecuteTime": {
     "end_time": "2018-11-22T03:49:26.852204Z",
     "start_time": "2018-11-22T03:49:26.758480Z"
    }
   },
   "outputs": [
    {
     "name": "stdout",
     "output_type": "stream",
     "text": [
      "Number of airports: 355\n"
     ]
    }
   ],
   "source": [
    "print(\"Number of airports: \" + str(len(G.nodes())))"
   ]
  },
  {
   "cell_type": "raw",
   "metadata": {
    "ExecuteTime": {
     "end_time": "2018-11-21T02:50:20.687862Z",
     "start_time": "2018-11-21T02:50:20.673896Z"
    },
    "scrolled": true
   },
   "source": [
    "G.nodes()"
   ]
  },
  {
   "cell_type": "code",
   "execution_count": 15,
   "metadata": {
    "ExecuteTime": {
     "end_time": "2018-11-22T04:15:54.409251Z",
     "start_time": "2018-11-22T03:55:33.795120Z"
    }
   },
   "outputs": [],
   "source": [
    "nx.write_gpickle(G, 'G.gpickle')"
   ]
  },
  {
   "cell_type": "raw",
   "metadata": {
    "ExecuteTime": {
     "end_time": "2018-11-18T21:17:04.261066Z",
     "start_time": "2018-11-18T21:16:12.420086Z"
    }
   },
   "source": [
    "G = nx.read_gpickle(\"graph.gpickle\")"
   ]
  },
  {
   "cell_type": "raw",
   "metadata": {
    "ExecuteTime": {
     "end_time": "2018-11-18T21:17:05.051670Z",
     "start_time": "2018-11-18T21:17:04.289066Z"
    }
   },
   "source": [
    "df = pd.read_csv(r'Dataset_export/dataset_4_cancelled.csv')"
   ]
  },
  {
   "cell_type": "raw",
   "metadata": {
    "ExecuteTime": {
     "end_time": "2018-11-18T21:17:13.682418Z",
     "start_time": "2018-11-18T21:17:11.812993Z"
    }
   },
   "source": [
    "cancelled_graph = nx.from_pandas_edgelist(df, source='Origin', target='Dest', edge_attr=['DayOfWeek', 'FlightDate', 'Reporting_Airline', 'Tail_Number', 'CRSDepTime', 'DepTime', 'DepDel15', 'DepTimeBlk', 'TaxiOut', 'TaxiIn', 'CRSArrTime', 'ArrTime', 'ArrDel15', 'ArrTimeBlk', 'Cancelled', 'CancellationCode', 'Diverted', 'Distance', 'DistanceGroup', 'CarrierDelay', 'WeatherDelay', 'NASDelay', 'SecurityDelay', 'LateAircraftDelay'], create_using=nx.MultiDiGraph())"
   ]
  },
  {
   "cell_type": "raw",
   "metadata": {
    "ExecuteTime": {
     "end_time": "2018-11-18T21:17:15.803043Z",
     "start_time": "2018-11-18T21:17:15.795043Z"
    }
   },
   "source": [
    "cancelled_edges = cancelled_graph.edges()"
   ]
  },
  {
   "cell_type": "raw",
   "metadata": {
    "ExecuteTime": {
     "end_time": "2018-11-18T21:25:14.974587Z",
     "start_time": "2018-11-18T21:25:06.427459Z"
    }
   },
   "source": [
    "cancelled_graph.edges(data=True)"
   ]
  },
  {
   "cell_type": "code",
   "execution_count": 7,
   "metadata": {
    "ExecuteTime": {
     "end_time": "2018-11-22T03:49:26.900877Z",
     "start_time": "2018-11-22T03:49:26.852204Z"
    },
    "scrolled": true
   },
   "outputs": [
    {
     "data": {
      "text/plain": [
       "['JFK', 'LAX', 'DFW', 'HNL', 'OKC', 'OGG', 'SFO', 'MIA', 'ORD', 'LAS']"
      ]
     },
     "execution_count": 7,
     "metadata": {},
     "output_type": "execute_result"
    }
   ],
   "source": [
    "# rank nodes\n",
    "# top 10 airports with most edges i.e. KPI for busiest\n",
    "# but this should be total edges per day with full data\n",
    "\n",
    "sorted(G.nodes(), key=lambda x:len(list(G.nodes(x))), reverse=True)[0:10]"
   ]
  },
  {
   "cell_type": "code",
   "execution_count": 13,
   "metadata": {
    "ExecuteTime": {
     "end_time": "2018-11-22T03:54:55.204578Z",
     "start_time": "2018-11-22T03:54:55.191611Z"
    }
   },
   "outputs": [
    {
     "data": {
      "text/plain": [
       "[('ATL', 3303.6158192090397),\n",
       " ('ORD', 2527.7994350282484),\n",
       " ('DEN', 2011.8559322033898),\n",
       " ('LAX', 1920.734463276836),\n",
       " ('DFW', 1911.3107344632767),\n",
       " ('SFO', 1535.6694915254238),\n",
       " ('PHX', 1444.138418079096),\n",
       " ('LAS', 1376.7542372881355),\n",
       " ('CLT', 1371.2909604519773),\n",
       " ('MSP', 1269.4717514124293)]"
      ]
     },
     "execution_count": 13,
     "metadata": {},
     "output_type": "execute_result"
    }
   ],
   "source": [
    "# rank nodes\n",
    "# degree centrality - number of nodes connected to 'XYZ' over total number of nodes\n",
    "\n",
    "deg_cent = nx.degree_centrality(G)\n",
    "deg_cent_sorted = sorted(deg_cent.items(), key=lambda x:x[1], reverse=True)\n",
    "deg_cent_sorted[0:10]"
   ]
  },
  {
   "cell_type": "code",
   "execution_count": 8,
   "metadata": {
    "ExecuteTime": {
     "end_time": "2018-11-22T03:49:26.910136Z",
     "start_time": "2018-11-22T03:49:26.903869Z"
    }
   },
   "outputs": [],
   "source": [
    "# ecdf\n",
    "\n",
    "def ecdf(data):\n",
    "    x = np.sort(data)\n",
    "    y = np.arange(1, len(x) + 1) / len(x)\n",
    "    return x, y"
   ]
  },
  {
   "cell_type": "code",
   "execution_count": 9,
   "metadata": {
    "ExecuteTime": {
     "end_time": "2018-11-22T03:49:27.389729Z",
     "start_time": "2018-11-22T03:49:26.913128Z"
    }
   },
   "outputs": [
    {
     "data": {
      "image/png": "[encoded data removed]",
      "text/plain": [
       "<Figure size 1440x360 with 1 Axes>"
      ]
     },
     "metadata": {},
     "output_type": "display_data"
    }
   ],
   "source": [
    "# degree centrality ecdf\n",
    "\n",
    "fig, ax = plt.subplots(figsize=(20, 5))\n",
    "deg_cent = list(nx.degree_centrality(G).values())\n",
    "x, y = ecdf(deg_cent)\n",
    "\n",
    "ax.scatter(x, y, marker='.')\n",
    "\n",
    "# axis stuff\n",
    "\n",
    "ax.set_title('Degree Centralities', fontdict={'fontsize': 20})\n",
    "#ax.legend(loc='upper right', fontsize=25)\n",
    "ax.tick_params(axis='both', which='major', labelsize=15)\n",
    "ax.tick_params(axis='both', which='minor', labelsize=15)\n",
    "ax.set_xlabel('', fontdict={'fontsize': 30})\n",
    "ax.set_ylabel('', fontdict={'fontsize': 30})\n",
    "ax.set_ylim(0,)\n",
    "fig.tight_layout()"
   ]
  },
  {
   "cell_type": "code",
   "execution_count": 10,
   "metadata": {
    "ExecuteTime": {
     "end_time": "2018-11-22T03:49:27.546728Z",
     "start_time": "2018-11-22T03:49:27.391723Z"
    }
   },
   "outputs": [
    {
     "data": {
      "image/png": "[encoded data removed]",
      "text/plain": [
       "<Figure size 1440x360 with 1 Axes>"
      ]
     },
     "metadata": {},
     "output_type": "display_data"
    }
   ],
   "source": [
    "# neighbors ecdf\n",
    "\n",
    "fig, ax = plt.subplots(figsize=(20, 5))\n",
    "neighbors = [len(list(G.neighbors(node))) for node in G.nodes()]\n",
    "x, y = ecdf(neighbors)\n",
    "\n",
    "ax.scatter(x, y, marker='.')\n",
    "\n",
    "# axis stuff\n",
    "\n",
    "ax.set_title('Number of Neighbors', fontdict={'fontsize': 20})\n",
    "#ax.legend(loc='upper right', fontsize=25)\n",
    "ax.tick_params(axis='both', which='major', labelsize=15)\n",
    "ax.tick_params(axis='both', which='minor', labelsize=15)\n",
    "ax.set_xlabel('', fontdict={'fontsize': 30})\n",
    "ax.set_ylabel('', fontdict={'fontsize': 30})\n",
    "ax.set_ylim(0,)\n",
    "fig.tight_layout()"
   ]
  },
  {
   "cell_type": "code",
   "execution_count": 11,
   "metadata": {
    "ExecuteTime": {
     "end_time": "2018-11-22T03:49:27.664498Z",
     "start_time": "2018-11-22T03:49:27.548778Z"
    }
   },
   "outputs": [
    {
     "data": {
      "image/png": "[encoded data removed]",
      "text/plain": [
       "<Figure size 360x360 with 1 Axes>"
      ]
     },
     "metadata": {},
     "output_type": "display_data"
    }
   ],
   "source": [
    "# sanity check - degree centrality should increase with number of neighbors - with full data\n",
    "\n",
    "fig, ax = plt.subplots(figsize=(5, 5))\n",
    "plt.scatter(deg_cent, neighbors, alpha=0.5)\n",
    "\n",
    "# axis stuff\n",
    "\n",
    "ax.set_title('', fontdict={'fontsize': 20})\n",
    "#ax.legend(loc='upper right', fontsize=25)\n",
    "ax.tick_params(axis='both', which='major', labelsize=15)\n",
    "ax.tick_params(axis='both', which='minor', labelsize=15)\n",
    "ax.set_xlabel('Degree Centralities', fontdict={'fontsize': 15})\n",
    "ax.set_ylabel('Number of Neighbors', fontdict={'fontsize': 15})\n",
    "ax.set_ylim(0,)\n",
    "fig.tight_layout()"
   ]
  },
  {
   "cell_type": "raw",
   "metadata": {
    "ExecuteTime": {
     "end_time": "2018-11-21T03:34:04.993599Z",
     "start_time": "2018-11-21T03:30:40.810047Z"
    }
   },
   "source": [
    "nx.draw(G)"
   ]
  },
  {
   "cell_type": "raw",
   "metadata": {},
   "source": [
    "c = CircosPlot(G, node_order='order', node_color='order')\n",
    "c.draw()\n",
    "plt.savefig('images/sociopatterns.png', dpi=300)"
   ]
  },
  {
   "cell_type": "raw",
   "metadata": {
    "ExecuteTime": {
     "end_time": "2018-11-21T04:04:25.105460Z",
     "start_time": "2018-11-21T04:04:25.099477Z"
    }
   },
   "source": [
    "# path exsits between 2 nodes\n",
    "\n",
    "nx.has_path(G, 'JFK', 'IAD')"
   ]
  },
  {
   "cell_type": "raw",
   "metadata": {
    "ExecuteTime": {
     "end_time": "2018-11-21T04:05:28.724074Z",
     "start_time": "2018-11-21T04:05:28.717094Z"
    }
   },
   "source": [
    "# shortest path between 2 nodes\n",
    "\n",
    "nx.shortest_path(G, 'JFK', 'STL')"
   ]
  },
  {
   "cell_type": "raw",
   "metadata": {
    "ExecuteTime": {
     "end_time": "2018-11-21T04:07:16.174000Z",
     "start_time": "2018-11-21T04:07:13.955408Z"
    }
   },
   "source": [
    "# extract graph for a given path\n",
    "\n",
    "def extract_path_edges(G, source, target):\n",
    "    # Check to make sure that a path does exists between source and target.\n",
    "    if nx.has_path(G, source, target):\n",
    "        nodes = nx.shortest_path(G, source, target)\n",
    "        newG = G.subgraph(nodes)\n",
    "        return newG\n",
    "\n",
    "    else:\n",
    "        raise Exception('Path does not exist between nodes {0} and {1}.'.format(source, target))\n",
    "        \n",
    "newG = extract_path_edges(G, 'JFK', 'STL')\n",
    "nx.draw(newG, with_labels=True)"
   ]
  },
  {
   "cell_type": "raw",
   "metadata": {
    "ExecuteTime": {
     "end_time": "2018-11-21T04:40:47.927488Z",
     "start_time": "2018-11-21T04:40:47.652220Z"
    }
   },
   "source": [
    "# target node and connecting nodes\n",
    "\n",
    "def extract_neighbor_edges(G, node):\n",
    "    neighbors = G.neighbors(node)\n",
    "    newG = nx.Graph()\n",
    "    \n",
    "    for neighbor in neighbors:\n",
    "        if (node, neighbor) in G.edges() or (neighbor, node) in G.edges():\n",
    "            newG.add_edge(node, neighbor)\n",
    "\n",
    "    return newG\n",
    "\n",
    "fig = plt.figure(1)\n",
    "newG = extract_neighbor_edges(G, 'SFO')\n",
    "nx.draw(newG, with_labels=True)"
   ]
  },
  {
   "cell_type": "code",
   "execution_count": 12,
   "metadata": {
    "ExecuteTime": {
     "end_time": "2018-11-22T03:49:28.657909Z",
     "start_time": "2018-11-22T03:49:27.666461Z"
    }
   },
   "outputs": [
    {
     "data": {
      "image/png": "[encoded data removed]",
      "text/plain": [
       "<Figure size 1440x720 with 2 Axes>"
      ]
     },
     "metadata": {},
     "output_type": "display_data"
    }
   ],
   "source": [
    "# betweenness centrality - how many shortest paths pass through a node\n",
    "# KPI for how much information or control a given node has - high betweenness centrality implies hub airport\n",
    "\n",
    "fig, (ax1, ax2) = plt.subplots(2, 1, figsize=(20, 10))\n",
    "\n",
    "btws = nx.betweenness_centrality(G, normalized=False)\n",
    "btws_sorted = sorted(btws.items(), key=lambda x:x[1], reverse=True)[0:10]\n",
    "\n",
    "aiports = [x[0] for x in btws_sorted]\n",
    "btws_cent = [x[1] for x in btws_sorted]\n",
    "\n",
    "deg = nx.degree_centrality(G)\n",
    "deg_sorted = sorted(deg.items(), key=lambda x:x[1], reverse=True)[0:10]\n",
    "\n",
    "aiports = [x[0] for x in deg_sorted]\n",
    "deg_cent = [x[1] for x in deg_sorted]\n",
    "\n",
    "ax1.bar(aiports, btws_cent)\n",
    "ax2.bar(aiports, deg_cent)\n",
    "\n",
    "ax1.set_title('Betweenness Centrality', fontdict={'fontsize': 20})\n",
    "#ax.legend(loc='upper right', fontsize=25)\n",
    "ax1.tick_params(axis='both', which='major', labelsize=15)\n",
    "ax1.tick_params(axis='both', which='minor', labelsize=15)\n",
    "ax1.set_xlabel('', fontdict={'fontsize': 15})\n",
    "ax1.set_ylabel('', fontdict={'fontsize': 15})\n",
    "ax1.set_ylim(0,)\n",
    "\n",
    "ax2.set_title('Degree Centrality', fontdict={'fontsize': 20})\n",
    "#ax.legend(loc='upper right', fontsize=25)\n",
    "ax2.tick_params(axis='both', which='major', labelsize=15)\n",
    "ax2.tick_params(axis='both', which='minor', labelsize=15)\n",
    "ax2.set_xlabel('', fontdict={'fontsize': 15})\n",
    "ax2.set_ylabel('', fontdict={'fontsize': 15})\n",
    "ax2.set_ylim(0,)\n",
    "\n",
    "fig.tight_layout()"
   ]
  },
  {
   "cell_type": "code",
   "execution_count": null,
   "metadata": {},
   "outputs": [],
   "source": []
  },
  {
   "cell_type": "code",
   "execution_count": null,
   "metadata": {},
   "outputs": [],
   "source": []
  },
  {
   "cell_type": "code",
   "execution_count": null,
   "metadata": {},
   "outputs": [],
   "source": []
  },
  {
   "cell_type": "code",
   "execution_count": null,
   "metadata": {},
   "outputs": [],
   "source": []
  },
  {
   "cell_type": "code",
   "execution_count": null,
   "metadata": {},
   "outputs": [],
   "source": []
  },
  {
   "cell_type": "code",
   "execution_count": null,
   "metadata": {},
   "outputs": [],
   "source": []
  },
  {
   "cell_type": "code",
   "execution_count": null,
   "metadata": {},
   "outputs": [],
   "source": []
  },
  {
   "cell_type": "code",
   "execution_count": null,
   "metadata": {},
   "outputs": [],
   "source": []
  },
  {
   "cell_type": "code",
   "execution_count": null,
   "metadata": {},
   "outputs": [],
   "source": []
  },
  {
   "cell_type": "code",
   "execution_count": null,
   "metadata": {},
   "outputs": [],
   "source": []
  }
 ],
 "metadata": {
  "kernelspec": {
   "display_name": "Python 3",
   "language": "python",
   "name": "python3"
  },
  "language_info": {
   "codemirror_mode": {
    "name": "ipython",
    "version": 3
   },
   "file_extension": ".py",
   "mimetype": "text/x-python",
   "name": "python",
   "nbconvert_exporter": "python",
   "pygments_lexer": "ipython3",
   "version": "3.6.5"
  }
 },
 "nbformat": 4,
 "nbformat_minor": 2
}
