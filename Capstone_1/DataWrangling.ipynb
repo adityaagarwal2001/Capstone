{
 "cells": [
  {
   "cell_type": "markdown",
   "metadata": {},
   "source": [
    "# Data analysis for Kickstrater campaigns"
   ]
  },
  {
   "cell_type": "markdown",
   "metadata": {},
   "source": [
    "Crowd funding is very crowded space in present day where Kickstarter and Indiegogo hold the most market share. My goal is to identify factors for a successful campaign. Successful campaign is one where 'pledged' money (same as total money raised) is greater than or equal to 'goal' (same as total money asked/requested) within a given deadline.\n",
    "\n",
    "I am using Kaggle data for this analysis which contains below features,\n",
    "\n",
    "1. ID - unique ID\n",
    "2. name -   name of the campaign\n",
    "3. category - level 2 category\n",
    "4. main_category - level 1 category\n",
    "5. currency\n",
    "6. deadline - date stamp\n",
    "7. goal - amount in local currency\n",
    "8. launched - date stamp\n",
    "9. pledged - amount in local currency\n",
    "10. state - failed, successful, undefined, canceled, live\n",
    "11. backers - total number of people invested\n",
    "12. country - country where campaign is launched\n",
    "13. usd_pledged - conversion to USD done by Kickstarter\n",
    "14. usd_pledged_real - conversion to USD done by Fixer.io API\n",
    "15. usd_goal_real - conversion to USD done by Fixer.io API\n",
    "\n",
    "\n",
    "I will be running through multiple techniques to understand and clean the dataset. In second file I will talk about data exploration using visual. However, this notebook is strictly used for data wrangling purpose only.\n"
   ]
  },
  {
   "cell_type": "markdown",
   "metadata": {},
   "source": [
    "\n"
   ]
  },
  {
   "cell_type": "code",
   "execution_count": 22,
   "metadata": {},
   "outputs": [],
   "source": [
    "# Import all required packages\n",
    "\n",
    "import pandas as pd\n",
    "import matplotlib.pyplot as plt\n",
    "import seaborn as sns\n",
    "import numpy as np\n",
    "import re"
   ]
  },
  {
   "cell_type": "code",
   "execution_count": 23,
   "metadata": {
    "scrolled": false
   },
   "outputs": [
    {
     "name": "stdout",
     "output_type": "stream",
     "text": [
      "<class 'pandas.core.frame.DataFrame'>\n",
      "RangeIndex: 378661 entries, 0 to 378660\n",
      "Data columns (total 15 columns):\n",
      "ID                  378661 non-null int64\n",
      "name                378657 non-null object\n",
      "category            378661 non-null object\n",
      "main_category       378661 non-null object\n",
      "currency            378661 non-null object\n",
      "deadline            378661 non-null object\n",
      "goal                378661 non-null float64\n",
      "launched            378661 non-null object\n",
      "pledged             378661 non-null float64\n",
      "state               378661 non-null object\n",
      "backers             378661 non-null int64\n",
      "country             378661 non-null object\n",
      "usd pledged         374864 non-null float64\n",
      "usd_pledged_real    378661 non-null float64\n",
      "usd_goal_real       378661 non-null float64\n",
      "dtypes: float64(5), int64(2), object(8)\n",
      "memory usage: 43.3+ MB\n"
     ]
    }
   ],
   "source": [
    "# Read dataset csv file downloaded from Kaggle website\n",
    "\n",
    "df = pd.read_csv(r\"C:\\Users\\Adi\\Desktop\\Data_Science\\Capstone1\\DataSet.csv\")\n",
    "\n",
    "# Check the basic structure for all features\n",
    "\n",
    "df.info()"
   ]
  },
  {
   "cell_type": "markdown",
   "metadata": {},
   "source": [
    "\n"
   ]
  },
  {
   "cell_type": "markdown",
   "metadata": {},
   "source": [
    "## Update column names\n",
    "\n",
    "The above table shows 'name' and 'usd pledged' have less entries than other columns. Also the latter has a space character in column name. Also, check the list of column names below."
   ]
  },
  {
   "cell_type": "markdown",
   "metadata": {},
   "source": [
    "\n"
   ]
  },
  {
   "cell_type": "code",
   "execution_count": 24,
   "metadata": {
    "scrolled": true
   },
   "outputs": [
    {
     "name": "stdout",
     "output_type": "stream",
     "text": [
      "Index(['ID', 'name', 'category', 'main_category', 'currency', 'deadline',\n",
      "       'goal', 'launched', 'pledged', 'state', 'backers', 'country',\n",
      "       'usd pledged', 'usd_pledged_real', 'usd_goal_real'],\n",
      "      dtype='object')\n"
     ]
    }
   ],
   "source": [
    "# Check column names\n",
    "\n",
    "print(df.columns)\n",
    "\n",
    "# Change column name\n",
    "\n",
    "df.rename(columns = {'usd pledged':'usd_pledged'}, inplace=True)\n"
   ]
  },
  {
   "cell_type": "markdown",
   "metadata": {},
   "source": [
    "\n"
   ]
  },
  {
   "cell_type": "markdown",
   "metadata": {},
   "source": [
    "## Check for null and duplicate values\n",
    "\n",
    "\n",
    "Let's display the data frame head. This is our raw dataframe from the Kaggle api. I will now add this to a new dataframe 'data', where we will clean by filtering out unwanted entries. Let's begin the analysis of identifying unwanted or \"bad\" data.\n",
    "\n",
    "The table below displays total null value entries in each column. We are not concerned about usd_pledged as there is another column usd_pledged_real where currency conversion is more accurate and in sync with usd_goal_real.\n",
    "\n",
    "Let's explore the name column to explore missing values. I will begin this by capturing value counts for name column."
   ]
  },
  {
   "cell_type": "markdown",
   "metadata": {},
   "source": [
    "\n"
   ]
  },
  {
   "cell_type": "code",
   "execution_count": 25,
   "metadata": {
    "scrolled": true
   },
   "outputs": [
    {
     "name": "stdout",
     "output_type": "stream",
     "text": [
      "Frequency of null values \n",
      "\n",
      "ID                     0\n",
      "name                   4\n",
      "category               0\n",
      "main_category          0\n",
      "currency               0\n",
      "deadline               0\n",
      "goal                   0\n",
      "launched               0\n",
      "pledged                0\n",
      "state                  0\n",
      "backers                0\n",
      "country                0\n",
      "usd_pledged         3797\n",
      "usd_pledged_real       0\n",
      "usd_goal_real          0\n",
      "dtype: int64\n",
      "\n",
      "Top 5 duplicate campaign names\n"
     ]
    },
    {
     "data": {
      "text/plain": [
       "New EP/Music Development    41\n",
       "Canceled (Canceled)         13\n",
       "N/A (Canceled)              11\n",
       "Music Video                 11\n",
       "Debut Album                 10\n",
       "Name: name, dtype: int64"
      ]
     },
     "execution_count": 25,
     "metadata": {},
     "output_type": "execute_result"
    }
   ],
   "source": [
    "# Check null values in each column\n",
    "\n",
    "print('Frequency of null values \\n')\n",
    "print(df.isnull().sum())\n",
    "\n",
    "print('\\nTop 5 duplicate campaign names')\n",
    "df.name.value_counts().head()"
   ]
  },
  {
   "cell_type": "markdown",
   "metadata": {},
   "source": [
    "\n"
   ]
  },
  {
   "cell_type": "markdown",
   "metadata": {},
   "source": [
    "## Drop invalid names \n",
    "\n",
    "New information has come to light! There are multiple campaigns under similar name(s) and there are multiple names which have word 'canceled' in them. Let's explore this in more depth.\n",
    "\n",
    "I want to check the state for each campaign where name contains word 'canceled'. These are bad data points as the campaigns with name 'canceled' were never executed and do not contribute towards analysis for successful campaigns. Drop all the rows where name column has 'canceled' word and store this as new dataframe 'data'. \n"
   ]
  },
  {
   "cell_type": "markdown",
   "metadata": {},
   "source": [
    "\n"
   ]
  },
  {
   "cell_type": "code",
   "execution_count": 26,
   "metadata": {
    "scrolled": true
   },
   "outputs": [
    {
     "name": "stdout",
     "output_type": "stream",
     "text": [
      "False    355530\n",
      "True      23131\n",
      "Name: name, dtype: int64\n",
      "<class 'pandas.core.frame.DataFrame'>\n",
      "Int64Index: 355530 entries, 0 to 378660\n",
      "Data columns (total 15 columns):\n",
      "ID                  355530 non-null int64\n",
      "name                355526 non-null object\n",
      "category            355530 non-null object\n",
      "main_category       355530 non-null object\n",
      "currency            355530 non-null object\n",
      "deadline            355530 non-null object\n",
      "goal                355530 non-null float64\n",
      "launched            355530 non-null object\n",
      "pledged             355530 non-null float64\n",
      "state               355530 non-null object\n",
      "backers             355530 non-null int64\n",
      "country             355530 non-null object\n",
      "usd_pledged         351737 non-null float64\n",
      "usd_pledged_real    355530 non-null float64\n",
      "usd_goal_real       355530 non-null float64\n",
      "dtypes: float64(5), int64(2), object(8)\n",
      "memory usage: 43.4+ MB\n"
     ]
    }
   ],
   "source": [
    "# Create a list to store boolean entries for if name column contains 'canceled' word\n",
    "# Display the count of true (yes canceled in name value) or false\n",
    "\n",
    "invalid_names = (df.name.str.contains('Canceled', case=False)) | (df.name.str.contains('Cancelled', case=False))\n",
    "print(invalid_names.value_counts())\n",
    "\n",
    "# Assigning false (where 'canceled' not present) list entries from invalid_names list\n",
    "\n",
    "data = df[invalid_names == False]\n",
    "data.info()"
   ]
  },
  {
   "cell_type": "markdown",
   "metadata": {},
   "source": [
    "\n"
   ]
  },
  {
   "cell_type": "markdown",
   "metadata": {},
   "source": [
    "## Drop null values\n",
    "\n",
    "As we can see from data info, name column still has some missing entries. Let's explore this by looking at missing values\n"
   ]
  },
  {
   "cell_type": "markdown",
   "metadata": {},
   "source": [
    "\n"
   ]
  },
  {
   "cell_type": "code",
   "execution_count": 27,
   "metadata": {},
   "outputs": [
    {
     "name": "stdout",
     "output_type": "stream",
     "text": [
      "Total null values in name column:  4\n",
      "\n",
      "Inconsistent data for the missing name rows\n",
      "\n"
     ]
    }
   ],
   "source": [
    "# Check for null values\n",
    "\n",
    "print('Total null values in name column: ', data.name.isnull().sum())\n",
    "\n",
    "print('\\nInconsistent data for the missing name rows\\n')\n"
   ]
  },
  {
   "cell_type": "markdown",
   "metadata": {},
   "source": [
    "Looking at the four line items we are not sure if the remaining features have captured data correctly. Also number of rows is too less to make an impact on total data points. Hence, I will drop these rows from our dataframe.\n"
   ]
  },
  {
   "cell_type": "code",
   "execution_count": 28,
   "metadata": {
    "scrolled": true
   },
   "outputs": [
    {
     "name": "stdout",
     "output_type": "stream",
     "text": [
      "<class 'pandas.core.frame.DataFrame'>\n",
      "Int64Index: 355526 entries, 0 to 378660\n",
      "Data columns (total 15 columns):\n",
      "ID                  355526 non-null int64\n",
      "name                355526 non-null object\n",
      "category            355526 non-null object\n",
      "main_category       355526 non-null object\n",
      "currency            355526 non-null object\n",
      "deadline            355526 non-null object\n",
      "goal                355526 non-null float64\n",
      "launched            355526 non-null object\n",
      "pledged             355526 non-null float64\n",
      "state               355526 non-null object\n",
      "backers             355526 non-null int64\n",
      "country             355526 non-null object\n",
      "usd_pledged         351733 non-null float64\n",
      "usd_pledged_real    355526 non-null float64\n",
      "usd_goal_real       355526 non-null float64\n",
      "dtypes: float64(5), int64(2), object(8)\n",
      "memory usage: 43.4+ MB\n"
     ]
    }
   ],
   "source": [
    "# Reassign data frame without null value rows in name column\n",
    "\n",
    "data = data.dropna(subset=['name'], how='any')\n",
    "data.info()"
   ]
  },
  {
   "cell_type": "code",
   "execution_count": 29,
   "metadata": {},
   "outputs": [
    {
     "data": {
      "text/plain": [
       "0"
      ]
     },
     "execution_count": 29,
     "metadata": {},
     "output_type": "execute_result"
    }
   ],
   "source": [
    "# Check for null values to confirm drop\n",
    "\n",
    "data.name.isnull().sum()"
   ]
  },
  {
   "cell_type": "markdown",
   "metadata": {},
   "source": [
    "## Drop undefined state\n",
    "\n",
    "We cant tell from the dataframe that most or at least some of the observations have 'undefined' state. We are more concerned about failed and successful projects for the scope of this analysis. To begin with I will drop all the rows where state is undefined.\n",
    "\n"
   ]
  },
  {
   "cell_type": "code",
   "execution_count": 30,
   "metadata": {
    "scrolled": true
   },
   "outputs": [
    {
     "name": "stdout",
     "output_type": "stream",
     "text": [
      "<class 'pandas.core.frame.DataFrame'>\n",
      "Int64Index: 351967 entries, 0 to 378660\n",
      "Data columns (total 15 columns):\n",
      "ID                  351967 non-null int64\n",
      "name                351967 non-null object\n",
      "category            351967 non-null object\n",
      "main_category       351967 non-null object\n",
      "currency            351967 non-null object\n",
      "deadline            351967 non-null object\n",
      "goal                351967 non-null float64\n",
      "launched            351967 non-null object\n",
      "pledged             351967 non-null float64\n",
      "state               351967 non-null object\n",
      "backers             351967 non-null int64\n",
      "country             351967 non-null object\n",
      "usd_pledged         351733 non-null float64\n",
      "usd_pledged_real    351967 non-null float64\n",
      "usd_goal_real       351967 non-null float64\n",
      "dtypes: float64(5), int64(2), object(8)\n",
      "memory usage: 43.0+ MB\n"
     ]
    }
   ],
   "source": [
    "# Filter dataframe without undefined state and assign it back to data\n",
    "\n",
    "data = data[data.state != 'undefined']\n",
    "data.info()"
   ]
  },
  {
   "cell_type": "markdown",
   "metadata": {},
   "source": [
    "\n"
   ]
  },
  {
   "cell_type": "markdown",
   "metadata": {},
   "source": [
    "## Drop duplicate names\n",
    "\n",
    "Aha. So now there are multiple line items for same name. Let's explore the data for couple of spot checks for duplicate names.\n",
    "\n",
    "\n",
    "There are multiple entries under a given name. These entries have valid state and other details so it would be wrong to assume it is bad data. At the same time, if we accept this as normal data there is a risk of accounting for repeat values as these might be test campaigns or even worse, incorrect entries.\n",
    "\n",
    "Total duplicate entries is about 1.3% of total dataset, i.e. ~4000 compared to the whole dataset of more than 300,000 rows. I will drop rows with duplicate name to maintain a cleaner dataset.\n"
   ]
  },
  {
   "cell_type": "code",
   "execution_count": 31,
   "metadata": {},
   "outputs": [
    {
     "data": {
      "text/html": [
       "<div>\n",
       "<style scoped>\n",
       "    .dataframe tbody tr th:only-of-type {\n",
       "        vertical-align: middle;\n",
       "    }\n",
       "\n",
       "    .dataframe tbody tr th {\n",
       "        vertical-align: top;\n",
       "    }\n",
       "\n",
       "    .dataframe thead th {\n",
       "        text-align: right;\n",
       "    }\n",
       "</style>\n",
       "<table border=\"1\" class=\"dataframe\">\n",
       "  <thead>\n",
       "    <tr style=\"text-align: right;\">\n",
       "      <th></th>\n",
       "      <th>ID</th>\n",
       "      <th>name</th>\n",
       "      <th>category</th>\n",
       "      <th>main_category</th>\n",
       "      <th>currency</th>\n",
       "      <th>deadline</th>\n",
       "      <th>goal</th>\n",
       "      <th>launched</th>\n",
       "      <th>pledged</th>\n",
       "      <th>state</th>\n",
       "      <th>backers</th>\n",
       "      <th>country</th>\n",
       "      <th>usd_pledged</th>\n",
       "      <th>usd_pledged_real</th>\n",
       "      <th>usd_goal_real</th>\n",
       "    </tr>\n",
       "  </thead>\n",
       "  <tbody>\n",
       "    <tr>\n",
       "      <th>13622</th>\n",
       "      <td>1068645001</td>\n",
       "      <td>New EP/Music Development</td>\n",
       "      <td>Rock</td>\n",
       "      <td>Music</td>\n",
       "      <td>USD</td>\n",
       "      <td>2015-04-23</td>\n",
       "      <td>3500.0</td>\n",
       "      <td>2015-03-18 16:20:34</td>\n",
       "      <td>1.0</td>\n",
       "      <td>failed</td>\n",
       "      <td>1</td>\n",
       "      <td>US</td>\n",
       "      <td>1.0</td>\n",
       "      <td>1.0</td>\n",
       "      <td>3500.0</td>\n",
       "    </tr>\n",
       "    <tr>\n",
       "      <th>99303</th>\n",
       "      <td>1504097381</td>\n",
       "      <td>New EP/Music Development</td>\n",
       "      <td>Rock</td>\n",
       "      <td>Music</td>\n",
       "      <td>USD</td>\n",
       "      <td>2015-04-27</td>\n",
       "      <td>2500.0</td>\n",
       "      <td>2015-03-24 21:35:07</td>\n",
       "      <td>11.0</td>\n",
       "      <td>failed</td>\n",
       "      <td>2</td>\n",
       "      <td>US</td>\n",
       "      <td>11.0</td>\n",
       "      <td>11.0</td>\n",
       "      <td>2500.0</td>\n",
       "    </tr>\n",
       "    <tr>\n",
       "      <th>132498</th>\n",
       "      <td>1672411097</td>\n",
       "      <td>New EP/Music Development</td>\n",
       "      <td>Music</td>\n",
       "      <td>Music</td>\n",
       "      <td>USD</td>\n",
       "      <td>2016-05-06</td>\n",
       "      <td>3000.0</td>\n",
       "      <td>2016-03-11 20:10:55</td>\n",
       "      <td>290.0</td>\n",
       "      <td>failed</td>\n",
       "      <td>0</td>\n",
       "      <td>N,0\"</td>\n",
       "      <td>NaN</td>\n",
       "      <td>290.0</td>\n",
       "      <td>3000.0</td>\n",
       "    </tr>\n",
       "    <tr>\n",
       "      <th>140448</th>\n",
       "      <td>1713090809</td>\n",
       "      <td>New EP/Music Development</td>\n",
       "      <td>Rock</td>\n",
       "      <td>Music</td>\n",
       "      <td>USD</td>\n",
       "      <td>2015-04-24</td>\n",
       "      <td>3800.0</td>\n",
       "      <td>2015-03-24 21:02:47</td>\n",
       "      <td>16.0</td>\n",
       "      <td>failed</td>\n",
       "      <td>2</td>\n",
       "      <td>US</td>\n",
       "      <td>16.0</td>\n",
       "      <td>16.0</td>\n",
       "      <td>3800.0</td>\n",
       "    </tr>\n",
       "    <tr>\n",
       "      <th>142270</th>\n",
       "      <td>1722909259</td>\n",
       "      <td>New EP/Music Development</td>\n",
       "      <td>Metal</td>\n",
       "      <td>Music</td>\n",
       "      <td>USD</td>\n",
       "      <td>2015-04-22</td>\n",
       "      <td>3000.0</td>\n",
       "      <td>2015-03-18 16:10:38</td>\n",
       "      <td>123.0</td>\n",
       "      <td>failed</td>\n",
       "      <td>6</td>\n",
       "      <td>US</td>\n",
       "      <td>123.0</td>\n",
       "      <td>123.0</td>\n",
       "      <td>3000.0</td>\n",
       "    </tr>\n",
       "  </tbody>\n",
       "</table>\n",
       "</div>"
      ],
      "text/plain": [
       "                ID                      name category main_category currency  \\\n",
       "13622   1068645001  New EP/Music Development     Rock         Music      USD   \n",
       "99303   1504097381  New EP/Music Development     Rock         Music      USD   \n",
       "132498  1672411097  New EP/Music Development    Music         Music      USD   \n",
       "140448  1713090809  New EP/Music Development     Rock         Music      USD   \n",
       "142270  1722909259  New EP/Music Development    Metal         Music      USD   \n",
       "\n",
       "          deadline    goal             launched  pledged   state  backers  \\\n",
       "13622   2015-04-23  3500.0  2015-03-18 16:20:34      1.0  failed        1   \n",
       "99303   2015-04-27  2500.0  2015-03-24 21:35:07     11.0  failed        2   \n",
       "132498  2016-05-06  3000.0  2016-03-11 20:10:55    290.0  failed        0   \n",
       "140448  2015-04-24  3800.0  2015-03-24 21:02:47     16.0  failed        2   \n",
       "142270  2015-04-22  3000.0  2015-03-18 16:10:38    123.0  failed        6   \n",
       "\n",
       "       country  usd_pledged  usd_pledged_real  usd_goal_real  \n",
       "13622       US          1.0               1.0         3500.0  \n",
       "99303       US         11.0              11.0         2500.0  \n",
       "132498    N,0\"          NaN             290.0         3000.0  \n",
       "140448      US         16.0              16.0         3800.0  \n",
       "142270      US        123.0             123.0         3000.0  "
      ]
     },
     "execution_count": 31,
     "metadata": {},
     "output_type": "execute_result"
    }
   ],
   "source": [
    "# Spot check example\n",
    "# Fliter data where name is one of the repeate values\n",
    "\n",
    "data[data.name == 'New EP/Music Development'].head()"
   ]
  },
  {
   "cell_type": "code",
   "execution_count": 32,
   "metadata": {},
   "outputs": [
    {
     "data": {
      "text/plain": [
       "4781"
      ]
     },
     "execution_count": 32,
     "metadata": {},
     "output_type": "execute_result"
    }
   ],
   "source": [
    "# Total duplicates in name column\n",
    "\n",
    "data.name.duplicated(keep=False).sum()"
   ]
  },
  {
   "cell_type": "code",
   "execution_count": 33,
   "metadata": {},
   "outputs": [],
   "source": [
    "# Drop rows with duplicate names\n",
    "\n",
    "data = data.drop_duplicates(subset=['name'], keep=False)"
   ]
  },
  {
   "cell_type": "markdown",
   "metadata": {},
   "source": [
    "\n"
   ]
  },
  {
   "cell_type": "markdown",
   "metadata": {},
   "source": [
    "# Data wrangling (part 2)"
   ]
  },
  {
   "cell_type": "code",
   "execution_count": 34,
   "metadata": {},
   "outputs": [],
   "source": [
    "df = data"
   ]
  },
  {
   "cell_type": "markdown",
   "metadata": {},
   "source": [
    "### Drop null values\n",
    "\n",
    "Total null values is 230 which is less than 0.06% of total observations."
   ]
  },
  {
   "cell_type": "code",
   "execution_count": 35,
   "metadata": {},
   "outputs": [],
   "source": [
    "# Drop null values\n",
    "df.dropna(how='any', inplace=True)\n"
   ]
  },
  {
   "cell_type": "markdown",
   "metadata": {},
   "source": [
    "### Check feature data types\n",
    "\n",
    "Data type for all features is correct expect where it contains date entries. Therefore, converting launched and deadline columns into date-time object."
   ]
  },
  {
   "cell_type": "code",
   "execution_count": 36,
   "metadata": {},
   "outputs": [],
   "source": [
    "# Convert columns from string to datetime\n",
    "\n",
    "df['launched'] = pd.to_datetime(df.launched)\n",
    "df['deadline'] = pd.to_datetime(df.deadline)\n"
   ]
  },
  {
   "cell_type": "markdown",
   "metadata": {},
   "source": [
    "### Add new features\n",
    "\n",
    "1. Launched date is when campaign was first active. I will consider this date for seasonality. It is better to create new features, year, month and day (Monday through Sunday). These will come in handy when looking at time series data.\n",
    "2. Another very important feature is duration. This is the time available for a campaign to pledge money equal to or more than the goal. Remember, for a campaign to be successful, it ought to pledge money at least as much as the goal before or by the deadline date.\n",
    "3. usd_pledged_real and usd_goal_real are values for each campaign in USD, irrespective of country/currency. Backers is another feature which means total number of pledges made or total number of people who pledged money for a given campaign. Using these I created few new features as below:\n",
    "    \n",
    "    p_timesgoal - pledged to goal ratio. Note: this should equal to or greater than 1 for successful projects\n",
    "    \n",
    "    p_perbacker - average money pledged per backer for a given project. Note: this metric could be skewed as not every backer is pledging same amount  of money. However, we will dive deep into this idea at some point.\n",
    "    \n",
    "    Also, I will check for inf values in p_perbacker as there would be projects where number of backers is zero."
   ]
  },
  {
   "cell_type": "code",
   "execution_count": 37,
   "metadata": {},
   "outputs": [],
   "source": [
    "# Create new columns and pick values from launched date\n",
    "\n",
    "df['year'] = df.launched.dt.year\n",
    "df['day'] = df.launched.dt.dayofweek\n",
    "df['month'] = df.launched.dt.month\n",
    "\n",
    "# Duration in days is the difference between deadline and launched date\n",
    "# Adding 1 to the difference as the actual days is 1 more than the difference\n",
    "\n",
    "df['duration'] = (df['deadline'] - df['launched']).astype('timedelta64[D]') + 1\n",
    "\n",
    "# Create new fetaures\n",
    "\n",
    "df['p_timesgoal'] = df['usd_pledged_real'] / df['usd_goal_real']\n",
    "df['p_perbacker'] = df['usd_pledged_real'] / df['backers']\n",
    "\n",
    "# Replace inf value with NaN with zero\n",
    "df[['p_perbacker']] = df[['p_perbacker']].replace([np.inf, -np.inf], np.nan).fillna(0)\n",
    "\n",
    "# Convert new features to int dtype\n",
    "df['p_timesgoal'] = df['p_timesgoal'].round(2)\n",
    "df['p_perbacker'] = df['p_perbacker'].round(0).astype(int)"
   ]
  },
  {
   "cell_type": "markdown",
   "metadata": {},
   "source": [
    "### Drop columns\n",
    "\n",
    "We do not require some of the features in existing dataset. Drop columns below:\n",
    "\n",
    "1. usd_pledged is currency conversion done by using exchange rate from different sources. I will keep usd_pledged_real instead, which uses one exchange rate table for all campaigns.\n",
    "2. ID is not required as every name is unique\n",
    "3. goal is value in local currency, we already have data for all campaigns in USD under column usd_goal_real\n",
    "4. pledged is value in local currency, we already have data for all campaigns in USD under column usd_pledged_real\n",
    "5. currency is the symbol per campaign country. We already have a column country\n",
    "\n",
    "Dropping these features will use less memory and give better view of dataframe when displayed for analysis."
   ]
  },
  {
   "cell_type": "code",
   "execution_count": 38,
   "metadata": {},
   "outputs": [],
   "source": [
    "del df['usd_pledged']\n",
    "del df['ID']\n",
    "del df['goal']\n",
    "del df['pledged']\n",
    "del df['currency']"
   ]
  },
  {
   "cell_type": "markdown",
   "metadata": {},
   "source": [
    "There is one observation for year 1970, which is incorrect for obvious reasons. I will drop this entry."
   ]
  },
  {
   "cell_type": "code",
   "execution_count": 39,
   "metadata": {},
   "outputs": [],
   "source": [
    "# Drop any obervations before 2005\n",
    "\n",
    "df = df[df.year >2005]"
   ]
  },
  {
   "cell_type": "markdown",
   "metadata": {},
   "source": [
    "## Display clean dataset\n",
    "\n",
    "Note: I don't need to clean values in column usd_pledged. Another column usd_pledged_real captures correct currency conversion data."
   ]
  },
  {
   "cell_type": "code",
   "execution_count": 40,
   "metadata": {},
   "outputs": [
    {
     "name": "stdout",
     "output_type": "stream",
     "text": [
      "<class 'pandas.core.frame.DataFrame'>\n",
      "Int64Index: 346955 entries, 0 to 378660\n",
      "Data columns (total 16 columns):\n",
      "name                346955 non-null object\n",
      "category            346955 non-null object\n",
      "main_category       346955 non-null object\n",
      "deadline            346955 non-null datetime64[ns]\n",
      "launched            346955 non-null datetime64[ns]\n",
      "state               346955 non-null object\n",
      "backers             346955 non-null int64\n",
      "country             346955 non-null object\n",
      "usd_pledged_real    346955 non-null float64\n",
      "usd_goal_real       346955 non-null float64\n",
      "year                346955 non-null int64\n",
      "day                 346955 non-null int64\n",
      "month               346955 non-null int64\n",
      "duration            346955 non-null float64\n",
      "p_timesgoal         346955 non-null float64\n",
      "p_perbacker         346955 non-null int32\n",
      "dtypes: datetime64[ns](2), float64(4), int32(1), int64(4), object(5)\n",
      "memory usage: 43.7+ MB\n"
     ]
    }
   ],
   "source": [
    "df.info()"
   ]
  },
  {
   "cell_type": "code",
   "execution_count": 41,
   "metadata": {
    "scrolled": false
   },
   "outputs": [
    {
     "data": {
      "text/html": [
       "<div>\n",
       "<style scoped>\n",
       "    .dataframe tbody tr th:only-of-type {\n",
       "        vertical-align: middle;\n",
       "    }\n",
       "\n",
       "    .dataframe tbody tr th {\n",
       "        vertical-align: top;\n",
       "    }\n",
       "\n",
       "    .dataframe thead th {\n",
       "        text-align: right;\n",
       "    }\n",
       "</style>\n",
       "<table border=\"1\" class=\"dataframe\">\n",
       "  <thead>\n",
       "    <tr style=\"text-align: right;\">\n",
       "      <th></th>\n",
       "      <th>name</th>\n",
       "      <th>category</th>\n",
       "      <th>main_category</th>\n",
       "      <th>deadline</th>\n",
       "      <th>launched</th>\n",
       "      <th>state</th>\n",
       "      <th>backers</th>\n",
       "      <th>country</th>\n",
       "      <th>usd_pledged_real</th>\n",
       "      <th>usd_goal_real</th>\n",
       "      <th>year</th>\n",
       "      <th>day</th>\n",
       "      <th>month</th>\n",
       "      <th>duration</th>\n",
       "      <th>p_timesgoal</th>\n",
       "      <th>p_perbacker</th>\n",
       "    </tr>\n",
       "  </thead>\n",
       "  <tbody>\n",
       "    <tr>\n",
       "      <th>0</th>\n",
       "      <td>The Songs of Adelaide &amp; Abullah</td>\n",
       "      <td>Poetry</td>\n",
       "      <td>Publishing</td>\n",
       "      <td>2015-10-09</td>\n",
       "      <td>2015-08-11 12:12:28</td>\n",
       "      <td>failed</td>\n",
       "      <td>0</td>\n",
       "      <td>GB</td>\n",
       "      <td>0.0</td>\n",
       "      <td>1533.95</td>\n",
       "      <td>2015</td>\n",
       "      <td>1</td>\n",
       "      <td>8</td>\n",
       "      <td>59.0</td>\n",
       "      <td>0.00</td>\n",
       "      <td>0</td>\n",
       "    </tr>\n",
       "    <tr>\n",
       "      <th>1</th>\n",
       "      <td>Greeting From Earth: ZGAC Arts Capsule For ET</td>\n",
       "      <td>Narrative Film</td>\n",
       "      <td>Film &amp; Video</td>\n",
       "      <td>2017-11-01</td>\n",
       "      <td>2017-09-02 04:43:57</td>\n",
       "      <td>failed</td>\n",
       "      <td>15</td>\n",
       "      <td>US</td>\n",
       "      <td>2421.0</td>\n",
       "      <td>30000.00</td>\n",
       "      <td>2017</td>\n",
       "      <td>5</td>\n",
       "      <td>9</td>\n",
       "      <td>60.0</td>\n",
       "      <td>0.08</td>\n",
       "      <td>161</td>\n",
       "    </tr>\n",
       "    <tr>\n",
       "      <th>2</th>\n",
       "      <td>Where is Hank?</td>\n",
       "      <td>Narrative Film</td>\n",
       "      <td>Film &amp; Video</td>\n",
       "      <td>2013-02-26</td>\n",
       "      <td>2013-01-12 00:20:50</td>\n",
       "      <td>failed</td>\n",
       "      <td>3</td>\n",
       "      <td>US</td>\n",
       "      <td>220.0</td>\n",
       "      <td>45000.00</td>\n",
       "      <td>2013</td>\n",
       "      <td>5</td>\n",
       "      <td>1</td>\n",
       "      <td>45.0</td>\n",
       "      <td>0.00</td>\n",
       "      <td>73</td>\n",
       "    </tr>\n",
       "    <tr>\n",
       "      <th>3</th>\n",
       "      <td>ToshiCapital Rekordz Needs Help to Complete Album</td>\n",
       "      <td>Music</td>\n",
       "      <td>Music</td>\n",
       "      <td>2012-04-16</td>\n",
       "      <td>2012-03-17 03:24:11</td>\n",
       "      <td>failed</td>\n",
       "      <td>1</td>\n",
       "      <td>US</td>\n",
       "      <td>1.0</td>\n",
       "      <td>5000.00</td>\n",
       "      <td>2012</td>\n",
       "      <td>5</td>\n",
       "      <td>3</td>\n",
       "      <td>30.0</td>\n",
       "      <td>0.00</td>\n",
       "      <td>1</td>\n",
       "    </tr>\n",
       "    <tr>\n",
       "      <th>4</th>\n",
       "      <td>Community Film Project: The Art of Neighborhoo...</td>\n",
       "      <td>Film &amp; Video</td>\n",
       "      <td>Film &amp; Video</td>\n",
       "      <td>2015-08-29</td>\n",
       "      <td>2015-07-04 08:35:03</td>\n",
       "      <td>canceled</td>\n",
       "      <td>14</td>\n",
       "      <td>US</td>\n",
       "      <td>1283.0</td>\n",
       "      <td>19500.00</td>\n",
       "      <td>2015</td>\n",
       "      <td>5</td>\n",
       "      <td>7</td>\n",
       "      <td>56.0</td>\n",
       "      <td>0.07</td>\n",
       "      <td>92</td>\n",
       "    </tr>\n",
       "  </tbody>\n",
       "</table>\n",
       "</div>"
      ],
      "text/plain": [
       "                                                name        category  \\\n",
       "0                    The Songs of Adelaide & Abullah          Poetry   \n",
       "1      Greeting From Earth: ZGAC Arts Capsule For ET  Narrative Film   \n",
       "2                                     Where is Hank?  Narrative Film   \n",
       "3  ToshiCapital Rekordz Needs Help to Complete Album           Music   \n",
       "4  Community Film Project: The Art of Neighborhoo...    Film & Video   \n",
       "\n",
       "  main_category   deadline            launched     state  backers country  \\\n",
       "0    Publishing 2015-10-09 2015-08-11 12:12:28    failed        0      GB   \n",
       "1  Film & Video 2017-11-01 2017-09-02 04:43:57    failed       15      US   \n",
       "2  Film & Video 2013-02-26 2013-01-12 00:20:50    failed        3      US   \n",
       "3         Music 2012-04-16 2012-03-17 03:24:11    failed        1      US   \n",
       "4  Film & Video 2015-08-29 2015-07-04 08:35:03  canceled       14      US   \n",
       "\n",
       "   usd_pledged_real  usd_goal_real  year  day  month  duration  p_timesgoal  \\\n",
       "0               0.0        1533.95  2015    1      8      59.0         0.00   \n",
       "1            2421.0       30000.00  2017    5      9      60.0         0.08   \n",
       "2             220.0       45000.00  2013    5      1      45.0         0.00   \n",
       "3               1.0        5000.00  2012    5      3      30.0         0.00   \n",
       "4            1283.0       19500.00  2015    5      7      56.0         0.07   \n",
       "\n",
       "   p_perbacker  \n",
       "0            0  \n",
       "1          161  \n",
       "2           73  \n",
       "3            1  \n",
       "4           92  "
      ]
     },
     "execution_count": 41,
     "metadata": {},
     "output_type": "execute_result"
    }
   ],
   "source": [
    "df.head()"
   ]
  },
  {
   "cell_type": "markdown",
   "metadata": {},
   "source": [
    "## Export dataset\n",
    "\n",
    "I will use this data set for next exercise on data storytelling"
   ]
  },
  {
   "cell_type": "code",
   "execution_count": 42,
   "metadata": {},
   "outputs": [],
   "source": [
    "df.to_csv('DataSet_clean.csv', index=False)"
   ]
  },
  {
   "cell_type": "markdown",
   "metadata": {},
   "source": [
    "## Summary\n",
    "\n",
    "Kickstarter dataset has more than 300,000 observations which is good for finding correlations and trends. This dataset has many useful features.\n",
    "\n",
    "As a part of data wrangling, I performed the following steps.\n",
    "\n",
    "##### Import dataset from Kaggle CSV\n",
    "##### Update column names to maintain consistency\n",
    "##### Check for null and duplicate entries\n",
    "##### Drop observations with invalid campaign names\n",
    "##### Drop observations with null values\n",
    "##### Drop observations where 'state' feature is 'undefined'\n",
    "(state feature can take values - failed, successful, canceled, live and undefined)\n",
    "##### Drop duplicate observations\n",
    "##### Data wrangling (part 2)\n",
    "Drop any null values\n",
    "Check feature data types\n",
    "Add new features\n",
    "Drop columns which are not required in analysis\n",
    "\n",
    "##### Export dataset into new CSV file\n",
    "\n",
    "\n",
    "\n"
   ]
  },
  {
   "cell_type": "code",
   "execution_count": null,
   "metadata": {},
   "outputs": [],
   "source": []
  }
 ],
 "metadata": {
  "kernelspec": {
   "display_name": "Python 3",
   "language": "python",
   "name": "python3"
  },
  "language_info": {
   "codemirror_mode": {
    "name": "ipython",
    "version": 3
   },
   "file_extension": ".py",
   "mimetype": "text/x-python",
   "name": "python",
   "nbconvert_exporter": "python",
   "pygments_lexer": "ipython3",
   "version": "3.6.5"
  }
 },
 "nbformat": 4,
 "nbformat_minor": 1
}
