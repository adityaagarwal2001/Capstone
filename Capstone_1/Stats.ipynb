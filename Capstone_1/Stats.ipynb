{
 "cells": [
  {
   "cell_type": "markdown",
   "metadata": {},
   "source": [
    "# Stats"
   ]
  },
  {
   "cell_type": "code",
   "execution_count": 29,
   "metadata": {},
   "outputs": [],
   "source": [
    "%matplotlib inline\n",
    "\n",
    "import seaborn as sns\n",
    "import datetime as dt\n",
    "\n",
    "from scipy import stats\n",
    "\n",
    "sns.set()\n",
    "import pandas as pd\n",
    "import numpy as np\n",
    "import matplotlib.pyplot as plt\n",
    "import bokeh.plotting as bkp\n",
    "from mpl_toolkits.axes_grid1 import make_axes_locatable"
   ]
  },
  {
   "cell_type": "code",
   "execution_count": 30,
   "metadata": {},
   "outputs": [],
   "source": [
    "# Import data from CSV file and save in dataframe df\n",
    "\n",
    "df = pd.read_csv(r\"C:\\Users\\Adi\\Desktop\\Data_Science\\Capstone1\\DataSet_DataStory.csv\")"
   ]
  },
  {
   "cell_type": "code",
   "execution_count": 31,
   "metadata": {},
   "outputs": [
    {
     "data": {
      "text/html": [
       "<div>\n",
       "<style scoped>\n",
       "    .dataframe tbody tr th:only-of-type {\n",
       "        vertical-align: middle;\n",
       "    }\n",
       "\n",
       "    .dataframe tbody tr th {\n",
       "        vertical-align: top;\n",
       "    }\n",
       "\n",
       "    .dataframe thead th {\n",
       "        text-align: right;\n",
       "    }\n",
       "</style>\n",
       "<table border=\"1\" class=\"dataframe\">\n",
       "  <thead>\n",
       "    <tr style=\"text-align: right;\">\n",
       "      <th></th>\n",
       "      <th>name</th>\n",
       "      <th>category</th>\n",
       "      <th>main_category</th>\n",
       "      <th>deadline</th>\n",
       "      <th>launched</th>\n",
       "      <th>state</th>\n",
       "      <th>backers</th>\n",
       "      <th>country</th>\n",
       "      <th>usd_pledged_real</th>\n",
       "      <th>usd_goal_real</th>\n",
       "      <th>year</th>\n",
       "      <th>day</th>\n",
       "      <th>month</th>\n",
       "      <th>duration</th>\n",
       "      <th>p_timesgoal</th>\n",
       "      <th>p_perbacker</th>\n",
       "    </tr>\n",
       "  </thead>\n",
       "  <tbody>\n",
       "    <tr>\n",
       "      <th>0</th>\n",
       "      <td>The Songs of Adelaide &amp; Abullah</td>\n",
       "      <td>Poetry</td>\n",
       "      <td>Publishing</td>\n",
       "      <td>2015-10-09 00:00:00</td>\n",
       "      <td>2015-08-11 12:12:28</td>\n",
       "      <td>failed</td>\n",
       "      <td>0</td>\n",
       "      <td>GB</td>\n",
       "      <td>0.0</td>\n",
       "      <td>1533.95</td>\n",
       "      <td>2015</td>\n",
       "      <td>1</td>\n",
       "      <td>8</td>\n",
       "      <td>59.0</td>\n",
       "      <td>0.0</td>\n",
       "      <td>0</td>\n",
       "    </tr>\n",
       "    <tr>\n",
       "      <th>1</th>\n",
       "      <td>Greeting From Earth: ZGAC Arts Capsule For ET</td>\n",
       "      <td>Narrative Film</td>\n",
       "      <td>Film &amp; Video</td>\n",
       "      <td>2017-11-01 00:00:00</td>\n",
       "      <td>2017-09-02 04:43:57</td>\n",
       "      <td>failed</td>\n",
       "      <td>15</td>\n",
       "      <td>US</td>\n",
       "      <td>2421.0</td>\n",
       "      <td>30000.00</td>\n",
       "      <td>2017</td>\n",
       "      <td>5</td>\n",
       "      <td>9</td>\n",
       "      <td>60.0</td>\n",
       "      <td>8.0</td>\n",
       "      <td>161</td>\n",
       "    </tr>\n",
       "    <tr>\n",
       "      <th>2</th>\n",
       "      <td>Where is Hank?</td>\n",
       "      <td>Narrative Film</td>\n",
       "      <td>Film &amp; Video</td>\n",
       "      <td>2013-02-26 00:00:00</td>\n",
       "      <td>2013-01-12 00:20:50</td>\n",
       "      <td>failed</td>\n",
       "      <td>3</td>\n",
       "      <td>US</td>\n",
       "      <td>220.0</td>\n",
       "      <td>45000.00</td>\n",
       "      <td>2013</td>\n",
       "      <td>5</td>\n",
       "      <td>1</td>\n",
       "      <td>45.0</td>\n",
       "      <td>0.0</td>\n",
       "      <td>73</td>\n",
       "    </tr>\n",
       "    <tr>\n",
       "      <th>3</th>\n",
       "      <td>ToshiCapital Rekordz Needs Help to Complete Album</td>\n",
       "      <td>Music</td>\n",
       "      <td>Music</td>\n",
       "      <td>2012-04-16 00:00:00</td>\n",
       "      <td>2012-03-17 03:24:11</td>\n",
       "      <td>failed</td>\n",
       "      <td>1</td>\n",
       "      <td>US</td>\n",
       "      <td>1.0</td>\n",
       "      <td>5000.00</td>\n",
       "      <td>2012</td>\n",
       "      <td>5</td>\n",
       "      <td>3</td>\n",
       "      <td>30.0</td>\n",
       "      <td>0.0</td>\n",
       "      <td>1</td>\n",
       "    </tr>\n",
       "    <tr>\n",
       "      <th>4</th>\n",
       "      <td>Community Film Project: The Art of Neighborhoo...</td>\n",
       "      <td>Film &amp; Video</td>\n",
       "      <td>Film &amp; Video</td>\n",
       "      <td>2015-08-29 00:00:00</td>\n",
       "      <td>2015-07-04 08:35:03</td>\n",
       "      <td>canceled</td>\n",
       "      <td>14</td>\n",
       "      <td>US</td>\n",
       "      <td>1283.0</td>\n",
       "      <td>19500.00</td>\n",
       "      <td>2015</td>\n",
       "      <td>5</td>\n",
       "      <td>7</td>\n",
       "      <td>56.0</td>\n",
       "      <td>7.0</td>\n",
       "      <td>92</td>\n",
       "    </tr>\n",
       "  </tbody>\n",
       "</table>\n",
       "</div>"
      ],
      "text/plain": [
       "                                                name        category  \\\n",
       "0                    The Songs of Adelaide & Abullah          Poetry   \n",
       "1      Greeting From Earth: ZGAC Arts Capsule For ET  Narrative Film   \n",
       "2                                     Where is Hank?  Narrative Film   \n",
       "3  ToshiCapital Rekordz Needs Help to Complete Album           Music   \n",
       "4  Community Film Project: The Art of Neighborhoo...    Film & Video   \n",
       "\n",
       "  main_category             deadline             launched     state  backers  \\\n",
       "0    Publishing  2015-10-09 00:00:00  2015-08-11 12:12:28    failed        0   \n",
       "1  Film & Video  2017-11-01 00:00:00  2017-09-02 04:43:57    failed       15   \n",
       "2  Film & Video  2013-02-26 00:00:00  2013-01-12 00:20:50    failed        3   \n",
       "3         Music  2012-04-16 00:00:00  2012-03-17 03:24:11    failed        1   \n",
       "4  Film & Video  2015-08-29 00:00:00  2015-07-04 08:35:03  canceled       14   \n",
       "\n",
       "  country  usd_pledged_real  usd_goal_real  year  day  month  duration  \\\n",
       "0      GB               0.0        1533.95  2015    1      8      59.0   \n",
       "1      US            2421.0       30000.00  2017    5      9      60.0   \n",
       "2      US             220.0       45000.00  2013    5      1      45.0   \n",
       "3      US               1.0        5000.00  2012    5      3      30.0   \n",
       "4      US            1283.0       19500.00  2015    5      7      56.0   \n",
       "\n",
       "   p_timesgoal  p_perbacker  \n",
       "0          0.0            0  \n",
       "1          8.0          161  \n",
       "2          0.0           73  \n",
       "3          0.0            1  \n",
       "4          7.0           92  "
      ]
     },
     "execution_count": 31,
     "metadata": {},
     "output_type": "execute_result"
    }
   ],
   "source": [
    "df.head()"
   ]
  },
  {
   "cell_type": "code",
   "execution_count": 32,
   "metadata": {},
   "outputs": [],
   "source": [
    "# Create dataframe for failed and successful campaigns only\n",
    "data = df[(df.state == 'failed') | (df.state == 'successful')]"
   ]
  },
  {
   "cell_type": "code",
   "execution_count": 33,
   "metadata": {
    "scrolled": true
   },
   "outputs": [
    {
     "name": "stderr",
     "output_type": "stream",
     "text": [
      "c:\\miniconda3\\lib\\site-packages\\ipykernel_launcher.py:4: SettingWithCopyWarning: \n",
      "A value is trying to be set on a copy of a slice from a DataFrame.\n",
      "Try using .loc[row_indexer,col_indexer] = value instead\n",
      "\n",
      "See the caveats in the documentation: http://pandas.pydata.org/pandas-docs/stable/indexing.html#indexing-view-versus-copy\n",
      "  after removing the cwd from sys.path.\n"
     ]
    }
   ],
   "source": [
    "# Create result column\n",
    "# Result value 1 for successful, 0 for failed campaigns\n",
    "\n",
    "data['result'] = pd.get_dummies(data.state).successful"
   ]
  },
  {
   "cell_type": "code",
   "execution_count": 34,
   "metadata": {
    "scrolled": false
   },
   "outputs": [],
   "source": [
    "# Correlation matrix scatter plot\n",
    "\n",
    "#from pandas.tools.plotting import scatter_matrix\n",
    "#from matplotlib import cm\n",
    "#feature_names = ['backers', 'usd_pledged_real', 'usd_goal_real', 'year', 'day', 'month', 'duration', 'p_timesgoal', 'p_perbacker']\n",
    "#X = data[feature_names][:100]\n",
    "#y = data['result'][:100]\n",
    "#cmap = cm.get_cmap('gnuplot')\n",
    "\n",
    "#scatter = pd.scatter_matrix(X, c = y, marker = 'o', s=40, hist_kwds={'bins':15}, figsize=(10,10), cmap = cmap)\n",
    "#plt.suptitle('Scatter-matrix for each input variable')\n",
    "#plt.show()\n",
    "#plt.savefig('scatter_matrix')"
   ]
  },
  {
   "cell_type": "code",
   "execution_count": 35,
   "metadata": {},
   "outputs": [],
   "source": [
    "# Create separate dataframe for failed and successful campaigns\n",
    "\n",
    "f = df[df.state == 'failed']\n",
    "s = df[df.state == 'successful']"
   ]
  },
  {
   "cell_type": "code",
   "execution_count": 36,
   "metadata": {
    "scrolled": true
   },
   "outputs": [
    {
     "data": {
      "text/plain": [
       "Ks_2sampResult(statistic=0.09900557408824556, pvalue=0.0)"
      ]
     },
     "execution_count": 36,
     "metadata": {},
     "output_type": "execute_result"
    }
   ],
   "source": [
    "# KS 2 sample test for duration\n",
    "# Small pvalue signifies there difference in duration for failed and successful campaigns is statistically significant\n",
    "\n",
    "stats.ks_2samp(f.duration.values, s.duration.values)"
   ]
  },
  {
   "cell_type": "code",
   "execution_count": 37,
   "metadata": {},
   "outputs": [],
   "source": [
    "def ecdf(data):\n",
    "    x = np.sort(data)\n",
    "    y = np.arange(1, len(x) + 1) / len(x)\n",
    "    return x, y"
   ]
  },
  {
   "cell_type": "code",
   "execution_count": 38,
   "metadata": {
    "scrolled": true
   },
   "outputs": [
    {
     "data": {
      "text/plain": [
       "SpearmanrResult(correlation=-0.09520977739439622, pvalue=0.0)"
      ]
     },
     "execution_count": 38,
     "metadata": {},
     "output_type": "execute_result"
    }
   ],
   "source": [
    "# Sprearman correlation test between duration and result\n",
    "# This is non parametric test since data is not normally distributed\n",
    "\n",
    "stats.spearmanr(data.duration.values.reshape(-1, 1), data.result.values.reshape(-1, 1))"
   ]
  },
  {
   "cell_type": "code",
   "execution_count": 39,
   "metadata": {},
   "outputs": [
    {
     "data": {
      "text/plain": [
       "SpearmanrResult(correlation=-0.22167805064920165, pvalue=0.0)"
      ]
     },
     "execution_count": 39,
     "metadata": {},
     "output_type": "execute_result"
    }
   ],
   "source": [
    "# Sprearman correlation test between goal amount and result\n",
    "# This is non parametric test since data is not normally distributed\n",
    "\n",
    "stats.spearmanr(data.usd_goal_real.values.reshape(-1, 1), data.result.values.reshape(-1, 1))"
   ]
  },
  {
   "cell_type": "code",
   "execution_count": 40,
   "metadata": {},
   "outputs": [],
   "source": [
    "# Define function to pick the best distribution of passed data from the list of distributions provided\n",
    "\n",
    "def get_best_distribution(data):\n",
    "    dist_names = [\"gamma\", \"lognorm\", \"norm\", \"exponweib\", \"weibull_max\", \"weibull_min\", \"pareto\", \"genextreme\", \"expon\"]\n",
    "    dist_results = []\n",
    "    params = {}\n",
    "    for dist_name in dist_names:\n",
    "        dist = getattr(stats, dist_name)\n",
    "        param = dist.fit(data)\n",
    "\n",
    "        params[dist_name] = param\n",
    "        # Applying the Kolmogorov-Smirnov test\n",
    "        D, p = stats.kstest(data, dist_name, args=param)\n",
    "        print(\"p value for \"+dist_name+\" = \"+str(p))\n",
    "        dist_results.append((dist_name, p))\n",
    "\n",
    "    # select the best fitted distribution\n",
    "    best_dist, best_p = (max(dist_results, key=lambda item: item[1]))\n",
    "    # store the name of the best fit and its p value\n",
    "\n",
    "    print(\"Best fitting distribution: \"+str(best_dist))\n",
    "    print(\"Best p value: \"+ str(best_p))\n",
    "    print(\"Parameters for the best fit: \"+ str(params[best_dist]))\n",
    "\n",
    "    return best_dist, best_p, params[best_dist]"
   ]
  },
  {
   "cell_type": "code",
   "execution_count": 41,
   "metadata": {},
   "outputs": [
    {
     "name": "stdout",
     "output_type": "stream",
     "text": [
      "p value for gamma = 0.0\n",
      "p value for lognorm = 0.0\n",
      "p value for norm = 0.0\n",
      "p value for exponweib = 0.0\n",
      "p value for weibull_max = 0.0\n",
      "p value for weibull_min = 0.0\n"
     ]
    },
    {
     "name": "stderr",
     "output_type": "stream",
     "text": [
      "c:\\miniconda3\\lib\\site-packages\\scipy\\stats\\_distn_infrastructure.py:2305: RuntimeWarning: invalid value encountered in double_scalars\n",
      "  Lhat = muhat - Shat*mu\n"
     ]
    },
    {
     "name": "stdout",
     "output_type": "stream",
     "text": [
      "p value for pareto = 0.0\n",
      "p value for genextreme = 0.0\n",
      "p value for expon = 0.0\n",
      "Best fitting distribution: gamma\n",
      "Best p value: 0.0\n",
      "Parameters for the best fit: (11.09420426583413, -6.744007396250721, 3.669693596237975)\n"
     ]
    },
    {
     "data": {
      "text/plain": [
       "('gamma', 0.0, (11.09420426583413, -6.744007396250721, 3.669693596237975))"
      ]
     },
     "execution_count": 41,
     "metadata": {},
     "output_type": "execute_result"
    }
   ],
   "source": [
    "# Checking distribution for duration\n",
    "# This is for re assurance\n",
    "\n",
    "get_best_distribution(data.duration.values)"
   ]
  },
  {
   "cell_type": "code",
   "execution_count": 42,
   "metadata": {},
   "outputs": [
    {
     "name": "stdout",
     "output_type": "stream",
     "text": [
      "p value for gamma = 0.0\n",
      "p value for lognorm = 0.0\n",
      "p value for norm = 0.0\n",
      "p value for exponweib = 0.0\n",
      "p value for weibull_max = 0.0\n",
      "p value for weibull_min = 0.0\n"
     ]
    },
    {
     "name": "stderr",
     "output_type": "stream",
     "text": [
      "c:\\miniconda3\\lib\\site-packages\\scipy\\stats\\_distn_infrastructure.py:2305: RuntimeWarning: invalid value encountered in double_scalars\n",
      "  Lhat = muhat - Shat*mu\n"
     ]
    },
    {
     "name": "stdout",
     "output_type": "stream",
     "text": [
      "p value for pareto = 0.0\n",
      "p value for genextreme = 0.0\n",
      "p value for expon = 0.0\n",
      "Best fitting distribution: gamma\n",
      "Best p value: 0.0\n",
      "Parameters for the best fit: (0.001183762270934999, 166372354.61170137, 2.845057064315194e-16)\n"
     ]
    },
    {
     "data": {
      "text/plain": [
       "('gamma',\n",
       " 0.0,\n",
       " (0.001183762270934999, 166372354.61170137, 2.845057064315194e-16))"
      ]
     },
     "execution_count": 42,
     "metadata": {},
     "output_type": "execute_result"
    }
   ],
   "source": [
    "# Checking distribution for goal amount\n",
    "# This is for re assurance\n",
    "\n",
    "get_best_distribution(data.usd_goal_real.values)"
   ]
  },
  {
   "cell_type": "code",
   "execution_count": 43,
   "metadata": {},
   "outputs": [
    {
     "name": "stdout",
     "output_type": "stream",
     "text": [
      "Statistics=11524324457.500, p=0.000\n",
      "Different distribution (reject H0)\n"
     ]
    }
   ],
   "source": [
    "# Null hypothesis: duration comes from same population for failed and successful projects\n",
    "# Mann-Whitney U test\n",
    "\n",
    "from numpy.random import seed\n",
    "from numpy.random import randn\n",
    "from scipy.stats import mannwhitneyu\n",
    "# seed the random number generator\n",
    "seed(1)\n",
    "# generate two independent samples\n",
    "data1 = s.duration.values\n",
    "data2 = f.duration.values\n",
    "# compare samples\n",
    "stat, p = mannwhitneyu(data1, data2)\n",
    "print('Statistics=%.3f, p=%.3f' % (stat, p))\n",
    "# interpret\n",
    "alpha = 0.05\n",
    "if p > alpha:\n",
    "    print('Same distribution (fail to reject H0)')\n",
    "else:\n",
    "    print('Different distribution (reject H0)')\n"
   ]
  },
  {
   "cell_type": "code",
   "execution_count": 44,
   "metadata": {},
   "outputs": [],
   "source": [
    "# Wilcoxon signed-rank test\n",
    "# For learning purpose only. It does not apply here as data is not paired\n",
    "\n",
    "#from numpy.random import seed\n",
    "#from numpy.random import randn\n",
    "#from scipy.stats import wilcoxon\n",
    "# seed the random number generator\n",
    "#seed(1)\n",
    "# generate two independent samples\n",
    "#data1 = s.duration.values\n",
    "#data2 = f.duration.values\n",
    "# compare samples\n",
    "#stat, p = wilcoxon(data1, data2)\n",
    "#print('Statistics=%.3f, p=%.3f' % (stat, p))\n",
    "# interpret\n",
    "#alpha = 0.05\n",
    "#if p > alpha:\n",
    "#    print('Same distribution (fail to reject H0)')\n",
    "#else:\n",
    "#    print('Different distribution (reject H0)')"
   ]
  },
  {
   "cell_type": "code",
   "execution_count": 45,
   "metadata": {
    "scrolled": true
   },
   "outputs": [
    {
     "data": {
      "text/html": [
       "<div>\n",
       "<style scoped>\n",
       "    .dataframe tbody tr th:only-of-type {\n",
       "        vertical-align: middle;\n",
       "    }\n",
       "\n",
       "    .dataframe tbody tr th {\n",
       "        vertical-align: top;\n",
       "    }\n",
       "\n",
       "    .dataframe thead th {\n",
       "        text-align: right;\n",
       "    }\n",
       "</style>\n",
       "<table border=\"1\" class=\"dataframe\">\n",
       "  <thead>\n",
       "    <tr style=\"text-align: right;\">\n",
       "      <th></th>\n",
       "      <th>backers</th>\n",
       "      <th>usd_pledged_real</th>\n",
       "      <th>usd_goal_real</th>\n",
       "      <th>year</th>\n",
       "      <th>day</th>\n",
       "      <th>month</th>\n",
       "      <th>duration</th>\n",
       "      <th>p_timesgoal</th>\n",
       "      <th>p_perbacker</th>\n",
       "      <th>result</th>\n",
       "    </tr>\n",
       "  </thead>\n",
       "  <tbody>\n",
       "    <tr>\n",
       "      <th>backers</th>\n",
       "      <td>1.000000</td>\n",
       "      <td>0.752721</td>\n",
       "      <td>0.005198</td>\n",
       "      <td>0.019947</td>\n",
       "      <td>-0.029223</td>\n",
       "      <td>-0.002673</td>\n",
       "      <td>0.000016</td>\n",
       "      <td>0.016238</td>\n",
       "      <td>0.017579</td>\n",
       "      <td>0.125847</td>\n",
       "    </tr>\n",
       "    <tr>\n",
       "      <th>usd_pledged_real</th>\n",
       "      <td>0.752721</td>\n",
       "      <td>1.000000</td>\n",
       "      <td>0.006352</td>\n",
       "      <td>0.025291</td>\n",
       "      <td>-0.026826</td>\n",
       "      <td>-0.000232</td>\n",
       "      <td>0.008620</td>\n",
       "      <td>0.008905</td>\n",
       "      <td>0.093371</td>\n",
       "      <td>0.108412</td>\n",
       "    </tr>\n",
       "    <tr>\n",
       "      <th>usd_goal_real</th>\n",
       "      <td>0.005198</td>\n",
       "      <td>0.006352</td>\n",
       "      <td>1.000000</td>\n",
       "      <td>0.012201</td>\n",
       "      <td>-0.002551</td>\n",
       "      <td>0.001318</td>\n",
       "      <td>0.021328</td>\n",
       "      <td>-0.000432</td>\n",
       "      <td>0.013660</td>\n",
       "      <td>-0.023683</td>\n",
       "    </tr>\n",
       "    <tr>\n",
       "      <th>year</th>\n",
       "      <td>0.019947</td>\n",
       "      <td>0.025291</td>\n",
       "      <td>0.012201</td>\n",
       "      <td>1.000000</td>\n",
       "      <td>-0.033386</td>\n",
       "      <td>-0.091069</td>\n",
       "      <td>-0.171648</td>\n",
       "      <td>0.004520</td>\n",
       "      <td>0.006229</td>\n",
       "      <td>-0.073998</td>\n",
       "    </tr>\n",
       "    <tr>\n",
       "      <th>day</th>\n",
       "      <td>-0.029223</td>\n",
       "      <td>-0.026826</td>\n",
       "      <td>-0.002551</td>\n",
       "      <td>-0.033386</td>\n",
       "      <td>1.000000</td>\n",
       "      <td>-0.017698</td>\n",
       "      <td>0.019457</td>\n",
       "      <td>-0.000380</td>\n",
       "      <td>-0.006841</td>\n",
       "      <td>-0.021042</td>\n",
       "    </tr>\n",
       "    <tr>\n",
       "      <th>month</th>\n",
       "      <td>-0.002673</td>\n",
       "      <td>-0.000232</td>\n",
       "      <td>0.001318</td>\n",
       "      <td>-0.091069</td>\n",
       "      <td>-0.017698</td>\n",
       "      <td>1.000000</td>\n",
       "      <td>-0.017327</td>\n",
       "      <td>0.002779</td>\n",
       "      <td>0.013351</td>\n",
       "      <td>-0.010182</td>\n",
       "    </tr>\n",
       "    <tr>\n",
       "      <th>duration</th>\n",
       "      <td>0.000016</td>\n",
       "      <td>0.008620</td>\n",
       "      <td>0.021328</td>\n",
       "      <td>-0.171648</td>\n",
       "      <td>0.019457</td>\n",
       "      <td>-0.017327</td>\n",
       "      <td>1.000000</td>\n",
       "      <td>0.002740</td>\n",
       "      <td>0.021474</td>\n",
       "      <td>-0.115901</td>\n",
       "    </tr>\n",
       "    <tr>\n",
       "      <th>p_timesgoal</th>\n",
       "      <td>0.016238</td>\n",
       "      <td>0.008905</td>\n",
       "      <td>-0.000432</td>\n",
       "      <td>0.004520</td>\n",
       "      <td>-0.000380</td>\n",
       "      <td>0.002779</td>\n",
       "      <td>0.002740</td>\n",
       "      <td>1.000000</td>\n",
       "      <td>0.000513</td>\n",
       "      <td>0.014688</td>\n",
       "    </tr>\n",
       "    <tr>\n",
       "      <th>p_perbacker</th>\n",
       "      <td>0.017579</td>\n",
       "      <td>0.093371</td>\n",
       "      <td>0.013660</td>\n",
       "      <td>0.006229</td>\n",
       "      <td>-0.006841</td>\n",
       "      <td>0.013351</td>\n",
       "      <td>0.021474</td>\n",
       "      <td>0.000513</td>\n",
       "      <td>1.000000</td>\n",
       "      <td>0.155430</td>\n",
       "    </tr>\n",
       "    <tr>\n",
       "      <th>result</th>\n",
       "      <td>0.125847</td>\n",
       "      <td>0.108412</td>\n",
       "      <td>-0.023683</td>\n",
       "      <td>-0.073998</td>\n",
       "      <td>-0.021042</td>\n",
       "      <td>-0.010182</td>\n",
       "      <td>-0.115901</td>\n",
       "      <td>0.014688</td>\n",
       "      <td>0.155430</td>\n",
       "      <td>1.000000</td>\n",
       "    </tr>\n",
       "  </tbody>\n",
       "</table>\n",
       "</div>"
      ],
      "text/plain": [
       "                   backers  usd_pledged_real  usd_goal_real      year  \\\n",
       "backers           1.000000          0.752721       0.005198  0.019947   \n",
       "usd_pledged_real  0.752721          1.000000       0.006352  0.025291   \n",
       "usd_goal_real     0.005198          0.006352       1.000000  0.012201   \n",
       "year              0.019947          0.025291       0.012201  1.000000   \n",
       "day              -0.029223         -0.026826      -0.002551 -0.033386   \n",
       "month            -0.002673         -0.000232       0.001318 -0.091069   \n",
       "duration          0.000016          0.008620       0.021328 -0.171648   \n",
       "p_timesgoal       0.016238          0.008905      -0.000432  0.004520   \n",
       "p_perbacker       0.017579          0.093371       0.013660  0.006229   \n",
       "result            0.125847          0.108412      -0.023683 -0.073998   \n",
       "\n",
       "                       day     month  duration  p_timesgoal  p_perbacker  \\\n",
       "backers          -0.029223 -0.002673  0.000016     0.016238     0.017579   \n",
       "usd_pledged_real -0.026826 -0.000232  0.008620     0.008905     0.093371   \n",
       "usd_goal_real    -0.002551  0.001318  0.021328    -0.000432     0.013660   \n",
       "year             -0.033386 -0.091069 -0.171648     0.004520     0.006229   \n",
       "day               1.000000 -0.017698  0.019457    -0.000380    -0.006841   \n",
       "month            -0.017698  1.000000 -0.017327     0.002779     0.013351   \n",
       "duration          0.019457 -0.017327  1.000000     0.002740     0.021474   \n",
       "p_timesgoal      -0.000380  0.002779  0.002740     1.000000     0.000513   \n",
       "p_perbacker      -0.006841  0.013351  0.021474     0.000513     1.000000   \n",
       "result           -0.021042 -0.010182 -0.115901     0.014688     0.155430   \n",
       "\n",
       "                    result  \n",
       "backers           0.125847  \n",
       "usd_pledged_real  0.108412  \n",
       "usd_goal_real    -0.023683  \n",
       "year             -0.073998  \n",
       "day              -0.021042  \n",
       "month            -0.010182  \n",
       "duration         -0.115901  \n",
       "p_timesgoal       0.014688  \n",
       "p_perbacker       0.155430  \n",
       "result            1.000000  "
      ]
     },
     "execution_count": 45,
     "metadata": {},
     "output_type": "execute_result"
    }
   ],
   "source": [
    "# Correlation matrix for entire dataframe\n",
    "\n",
    "corr = data.corr()\n",
    "corr"
   ]
  },
  {
   "cell_type": "code",
   "execution_count": 46,
   "metadata": {},
   "outputs": [
    {
     "data": {
      "text/plain": [
       "<matplotlib.axes._subplots.AxesSubplot at 0x18ef1d33748>"
      ]
     },
     "execution_count": 46,
     "metadata": {},
     "output_type": "execute_result"
    },
    {
     "data": {
      "image/png": "[encoded data removed]",
      "text/plain": [
       "<Figure size 792x648 with 2 Axes>"
      ]
     },
     "metadata": {},
     "output_type": "display_data"
    }
   ],
   "source": [
    "# Correlation heat map\n",
    "\n",
    "from string import ascii_letters\n",
    "import numpy as np\n",
    "import pandas as pd\n",
    "import seaborn as sns\n",
    "import matplotlib.pyplot as plt\n",
    "\n",
    "sns.set(style=\"white\")\n",
    "\n",
    "\n",
    "# Generate a mask for the upper triangle\n",
    "mask = np.zeros_like(corr, dtype=np.bool)\n",
    "mask[np.triu_indices_from(mask)] = True\n",
    "\n",
    "# Set up the matplotlib figure\n",
    "fig, ax = plt.subplots(figsize=(11, 9))\n",
    "\n",
    "# Generate a custom diverging colormap\n",
    "cmap = sns.diverging_palette(220, 10, as_cmap=True)\n",
    "\n",
    "# Draw the heatmap with the mask and correct aspect ratio\n",
    "sns.heatmap(corr, mask=mask, cmap=cmap, vmax=.3, center=0,\n",
    "            square=True, linewidths=.5, cbar_kws={\"shrink\": .5})"
   ]
  },
  {
   "cell_type": "code",
   "execution_count": null,
   "metadata": {},
   "outputs": [],
   "source": []
  }
 ],
 "metadata": {
  "kernelspec": {
   "display_name": "Python 3",
   "language": "python",
   "name": "python3"
  },
  "language_info": {
   "codemirror_mode": {
    "name": "ipython",
    "version": 3
   },
   "file_extension": ".py",
   "mimetype": "text/x-python",
   "name": "python",
   "nbconvert_exporter": "python",
   "pygments_lexer": "ipython3",
   "version": "3.6.5"
  }
 },
 "nbformat": 4,
 "nbformat_minor": 1
}
